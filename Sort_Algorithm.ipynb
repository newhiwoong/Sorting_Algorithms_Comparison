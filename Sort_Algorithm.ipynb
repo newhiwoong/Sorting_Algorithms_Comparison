{
 "cells": [
  {
   "cell_type": "code",
   "execution_count": 1,
   "metadata": {
    "collapsed": true
   },
   "outputs": [],
   "source": [
    "import numpy as np\n",
    "np.random.seed(0)"
   ]
  },
  {
   "cell_type": "code",
   "execution_count": 2,
   "metadata": {},
   "outputs": [],
   "source": [
    "def Bubble_Sort(arr):\n",
    "    n = len(arr) - 1\n",
    "    \n",
    "    for i in range(n):\n",
    "        for j in range(n-i):\n",
    "            if arr[j] > arr[j+1]:\n",
    "                temp = arr[j]\n",
    "                arr[j] = arr[j+1]\n",
    "                arr[j+1] = temp\n",
    "    return arr"
   ]
  },
  {
   "cell_type": "code",
   "execution_count": 10,
   "metadata": {},
   "outputs": [],
   "source": [
    "def Selection_Sort(arr):\n",
    "    maxIdx = 0\n",
    "    n = len(arr) - 1\n",
    "    for i in range(n):\n",
    "        maxIdx = i\n",
    "        \n",
    "        for j in range(i+1, n):\n",
    "            if arr[maxIdx] > arr[j]:\n",
    "                maxIdx = j\n",
    "                \n",
    "        temp = arr[maxIdx]\n",
    "        arr[maxIdx] = arr[i]\n",
    "        arr[i] = temp\n",
    "    \n",
    "    return arr"
   ]
  },
  {
   "cell_type": "code",
   "execution_count": 17,
   "metadata": {},
   "outputs": [],
   "source": [
    "def Insertion_Sort(arr):\n",
    "    insData = x = 0\n",
    "    n = len(arr) - 1\n",
    "    for i in range(1,n):\n",
    "        insData = arr[i]\n",
    "        \n",
    "        for j in range(i-1, 0, -1):\n",
    "            x = j\n",
    "            if arr[j] > insData:\n",
    "                arr[j+1] = arr[j]\n",
    "            else:\n",
    "                break\n",
    "        arr[x+1] = insData\n",
    "    return arr"
   ]
  },
  {
   "cell_type": "code",
   "execution_count": 19,
   "metadata": {},
   "outputs": [
    {
     "name": "stdout",
     "output_type": "stream",
     "text": [
      "no sort      :  [42 84 75 68  6 68 47  3 76 52]\n",
      "Bubble sort : [ 3  6 42 47 52 68 68 75 76 84]\n",
      "Selection sort : [ 3  6 42 47 52 68 68 75 76 84]\n",
      "Insertion sort : [ 3  6 42 47 52 68 68 75 76 84]\n",
      "10.7 µs ± 336 ns per loop (mean ± std. dev. of 7 runs, 100000 loops each)\n"
     ]
    }
   ],
   "source": [
    "n = 10\n",
    "nlist = np.random.randint(n*n, size=n)\n",
    "\n",
    "print(\"no sort      : \",nlist)\n",
    "print(\"Bubble sort :\", Bubble_Sort(nlist))\n",
    "print(\"Selection sort :\", Selection_Sort(nlist))\n",
    "print(\"Insertion sort :\", Insertion_Sort(nlist))"
   ]
  },
  {
   "cell_type": "code",
   "execution_count": 27,
   "metadata": {},
   "outputs": [
    {
     "name": "stdout",
     "output_type": "stream",
     "text": [
      "Bubble_Sort\n",
      "27.3 µs ± 862 ns per loop (mean ± std. dev. of 7 runs, 10000 loops each)\n",
      "Selection_Sort\n",
      "26.2 µs ± 780 ns per loop (mean ± std. dev. of 7 runs, 10000 loops each)\n",
      "Insertion_Sort\n",
      "10.5 µs ± 113 ns per loop (mean ± std. dev. of 7 runs, 100000 loops each)\n"
     ]
    }
   ],
   "source": [
    "print(\"Bubble_Sort\")\n",
    "%timeit Bubble_Sort(nlist)\n",
    "print(\"Selection_Sort\")\n",
    "%timeit Selection_Sort(nlist)\n",
    "print(\"Insertion_Sort\")\n",
    "%timeit Insertion_Sort(nlist)\n",
    "\n"
   ]
  },
  {
   "cell_type": "code",
   "execution_count": null,
   "metadata": {
    "collapsed": true
   },
   "outputs": [],
   "source": []
  }
 ],
 "metadata": {
  "kernelspec": {
   "display_name": "Python 3",
   "language": "python",
   "name": "python3"
  },
  "language_info": {
   "codemirror_mode": {
    "name": "ipython",
    "version": 3
   },
   "file_extension": ".py",
   "mimetype": "text/x-python",
   "name": "python",
   "nbconvert_exporter": "python",
   "pygments_lexer": "ipython3",
   "version": "3.6.0"
  }
 },
 "nbformat": 4,
 "nbformat_minor": 2
}
